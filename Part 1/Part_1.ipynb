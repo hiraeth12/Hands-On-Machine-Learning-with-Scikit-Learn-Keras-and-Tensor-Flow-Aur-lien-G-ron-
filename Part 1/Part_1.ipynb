{
  "cells": [
    {
      "cell_type": "markdown",
      "metadata": {
        "id": "xZQ1xRp1gn4N"
      },
      "source": [
        "# The Fundamentals of Machine Learning"
      ]
    },
    {
      "cell_type": "markdown",
      "metadata": {
        "id": "pNOfwHr4g0cm"
      },
      "source": [
        "## Chapter 1 - The Machine Learning Landscape"
      ]
    },
    {
      "cell_type": "markdown",
      "metadata": {
        "id": "gFpWFoE7qIXI"
      },
      "source": [
        "### **What Is Machine Learning?**"
      ]
    },
    {
      "cell_type": "markdown",
      "metadata": {
        "id": "Ol2Dd9TToigx"
      },
      "source": [
        "Machine Learning is the science (and art) of programming computers so they can\n",
        "learn from data.\n",
        "\n",
        "Here is a slightly more general definition:\n",
        "\n",
        "\n",
        "> [Machine Learning is the] field of study that gives computers the ability to learn\n",
        "without being explicitly programmed.<br>&nbsp;&nbsp;\n",
        " —Arthur Samuel, 1959\n",
        "\n",
        "And a more engineering-oriented one:\n",
        "\n",
        "> A computer program is said to learn from experience E with respect to some task T\n",
        "and some performance measure P, if its performance on T, as measured by P,\n",
        "improves with experience E.<br>&nbsp;&nbsp; —Tom Mitchell, 1997\n",
        "\n",
        "A spam filter is a Machine Learning program that learns from examples of spam and ham emails.\n",
        "\n",
        "The dataset used for learning is the training set, and each example is a training instance.\n",
        "\n",
        "In this case:\n",
        "\n",
        "- Task (T): flag spam for new emails.\n",
        "\n",
        "- Experience (E): the training data.\n",
        "\n",
        "- Performance (P): ratio of correctly classified emails (accuracy).\n",
        "\n",
        "Simply downloading Wikipedia adds data, but it is not Machine Learning since no T, E, or P are defined."
      ]
    },
    {
      "cell_type": "markdown",
      "metadata": {
        "id": "vL9kdlfBqoFd"
      },
      "source": [
        "### **Why Use Machine Learning?**"
      ]
    },
    {
      "cell_type": "markdown",
      "metadata": {
        "id": "UuXlMCDKqxcV"
      },
      "source": [
        "Consider how you would write a spam filter using traditional programming techniques (Figure 1-1):"
      ]
    },
    {
      "cell_type": "markdown",
      "metadata": {
        "id": "p6Un42XCrBF3"
      },
      "source": [
        "1. Identify common spam features, such as frequent words (“4U,” “credit card,” “free,” “amazing”) and patterns in the subject, sender, or body.\n",
        "\n",
        "2. Create detection algorithms for these patterns and flag emails as spam if enough are present.\n",
        "\n",
        "3. Test and refine the program until performance is satisfactory.\n",
        "\n",
        "![Figure 1-1](./Fig/Fig1-1.png)\n",
        "\n",
        "\n",
        "Rule-based spam filters become long, complex, and hard to maintain. In contrast, a Machine Learning–based filter (Figure 1-2) automatically learns frequent word patterns in spam vs. ham, making it shorter, easier to maintain, and more accurate. When spammers adapt (e.g., changing “4U” to “For U”), rule-based filters require constant updates, while an ML filter (Figure 1-3) adapts automatically by detecting new frequent patterns in flagged spam.\n",
        "\n",
        "![Figure 1-2](./Fig/Fig1-2.png)\n",
        "\n",
        "![Figure 1-3](./Fig/Fig1-3.png)\n",
        "\n",
        "Machine Learning excels at problems too complex or lacking known algorithms, such as speech recognition. Simple hardcoded rules (e.g., detecting the high-pitch “T” in “two”) cannot scale to many words, speakers, noisy environments, and languages. Instead, ML algorithms learn from large sets of recordings. ML can also help humans learn (Figure 1-4): trained models can be inspected to reveal key predictors (e.g., words in spam filters), sometimes uncovering unexpected correlations or trends. Using ML to explore large datasets and reveal hidden patterns is known as data mining.\n",
        "\n",
        "![Figure 1-4](./Fig/Fig1-4.png)\n",
        "\n",
        "To summarize, Machine Learning is well-suited for:\n",
        "\n",
        "- Problems where traditional solutions need heavy fine-tuning or long rule lists.\n",
        "\n",
        "- Complex problems with no good traditional solution.\n",
        "\n",
        "- Fluctuating environments where systems must adapt to new data.\n",
        "\n",
        "- Gaining insights from complex problems and large datasets."
      ]
    },
    {
      "cell_type": "markdown",
      "metadata": {},
      "source": [
        "### **Example of Applications**"
      ]
    },
    {
      "cell_type": "markdown",
      "metadata": {},
      "source": [
        "Let’s look at some concrete examples of Machine Learning tasks, along with the tech‐\n",
        "niques that can tackle them:"
      ]
    },
    {
      "cell_type": "markdown",
      "metadata": {},
      "source": [
        "***Analyzing images of products on a production line to automatically classify them***\n",
        "<br>\n",
        "&nbsp;&nbsp; This is image classification, typically performed using convolutional neural net‐\n",
        "works (CNNs; see Chapter 14).\n",
        "\n",
        "***Detecting tumors in brain scans***\n",
        "<br>\n",
        "&nbsp;&nbsp; This is semantic segmentation, where each pixel in the image is classified (as we\n",
        "want to determine the exact location and shape of tumors), typically using CNNs\n",
        "as well.\n",
        "\n",
        "***Automatically classifying news articles***\n",
        "<br>\n",
        "&nbsp;&nbsp; This is natural language processing (NLP), and more specifically text classifica‐\n",
        "tion, which can be tackled using recurrent neural networks (RNNs), CNNs, or\n",
        "Transformers (see Chapter 16).\n",
        "\n",
        "***Automatically flagging offensive comments on discussion forums***\n",
        "<br>\n",
        "&nbsp;&nbsp; This is also text classification, using the same NLP tools.\n",
        "\n",
        "***Summarizing long documents automatically***\n",
        "<br>\n",
        "&nbsp;&nbsp; This is a branch of NLP called text summarization, again using the same tools.\n",
        "\n",
        "***Creating a chatbot or a personal assistant***\n",
        "<br>\n",
        "&nbsp; &nbsp; This involves many NLP components, including natural language understanding\n",
        "(NLU) and question-answering modules.\n",
        "\n",
        "***Building an intelligent bot for a game***\n",
        "<br>\n",
        "<p align = \"justify\">\n",
        "&nbsp;&nbsp;This is often tackled using Reinforcement Learning (RL; see Chapter 18),which\n",
        "is a branch of Machine Learning that trains agents (such as bots) to pick the\n",
        "actions that will maximize their rewards over time (e.g., a bot may get a reward\n",
        "every time the player loses some life points), within a given environment (such as\n",
        "the game). The famous AlphaGo program that beat the world champion at the\n",
        "game of Go was built using RL.\n",
        "</p>\n"
      ]
    },
    {
      "cell_type": "markdown",
      "metadata": {},
      "source": [
        "### **Supervised Learning / Unsupervised Learning**"
      ]
    },
    {
      "cell_type": "markdown",
      "metadata": {},
      "source": [
        "Machine Learning systems can be classified by the type of supervision in training: supervised, unsupervised, semisupervised, and reinforcement learning.\n"
      ]
    },
    {
      "cell_type": "markdown",
      "metadata": {},
      "source": [
        "#### **Supervised Learning**"
      ]
    },
    {
      "cell_type": "markdown",
      "metadata": {},
      "source": [
        "In supervised learning, the training set includes labels (Figure 1-5). Common tasks:<br>\n",
        "<br>\n",
        "\n",
        "![Figure 1-5](./Fig/Fig1-5.png)\n",
        "\n",
        "<br>\n",
        "\n",
        "- Classification (e.g., spam filter trained with labeled emails).\n",
        "- Regression (predicting numeric values such as car prices from features like mileage, age, brand; Figure 1-6).\n",
        "\n",
        "<br>\n",
        "\n",
        "![Figure 1-6](./Fig/Fig1-6.png)\n",
        "\n",
        "<br>\n",
        "\n",
        "Key notes:\n",
        "- Attribute = data type (e.g., mileage).\n",
        "- Feature = attribute + value (e.g., mileage = 15,000).\n",
        "- Some algorithms overlap (e.g., Logistic Regression is used for classification by outputting class probabilities).\n",
        "\n",
        "<br>    \n",
        "\n",
        "Important supervised learning algorithms:\n",
        "1. k-Nearest Neighbors\n",
        "2.Linear Regression\n",
        "3. Logistic Regression\n",
        "4. Support Vector Machines (SVMs)\n",
        "5. Decision Trees & Random Forests\n",
        "6. Neural Networks"
      ]
    },
    {
      "cell_type": "markdown",
      "metadata": {},
      "source": [
        "#### **Unsupervised Learning**"
      ]
    },
    {
      "cell_type": "markdown",
      "metadata": {},
      "source": [
        "In unsupervised learning, the training data is unlabeled (Figure 1-7). The system learns without a teacher.\n",
        "<br>\n",
        "\n",
        "![Figure 1-7](./Fig/Fig1-7.png)\n",
        "\n",
        "<br>\n",
        "Key unsupervised learning tasks and algorithms:\n",
        "\n",
        "- **Clustering**: K-Means, DBSCAN, Hierarchical Cluster Analysis (HCA).\n",
        "- **Anomaly & novelty detection**: One-class SVM, Isolation Forest.\n",
        "- **Visualization & dimensionality reduction**: PCA, Kernel PCA, LLE, t-SNE.\n",
        "- **Association rule learning**: Apriori, Eclat.\n",
        "\n",
        "**Example – Clustering** :<br>\n",
        "\n",
        "A clustering algorithm can group blog visitors without labels, e.g., 40% are comic book fans who read in the evening, while 20% are sci-fi fans active on weekends. Hierarchical clustering can subdivide groups further (Figure 1-8).\n",
        "\n",
        "<br>\n",
        "\n",
        "![Figure 1-8](./Fig/Fig1-8.png)\n",
        "\n",
        "<br>\n",
        "\n",
        "**Example – Visualization** :<br>\n",
        "\n",
        "Visualization algorithms (e.g., t-SNE) project high-dimensional unlabeled data into 2D/3D while preserving structure, revealing semantic clusters (Figure 1-9).\n",
        "\n",
        "<br>\n",
        "\n",
        "![Figure 1-9](./Fig/Fig1-9.png)\n",
        "\n",
        "<br>\n",
        "\n",
        "**Example – Dimensionality reduction** :<br>\n",
        "\n",
        "Simplifies data by merging correlated features (e.g., mileage + age → wear and tear). This reduces computation, storage, and can improve performance.\n",
        "\n",
        "**Example – Anomaly & novelty detection** :<br>\n",
        "\n",
        "Detects unusual patterns such as fraud or defects. The system learns normal instances, then flags unusual ones as anomalies (Figure 1-10). Novelty detection instead flags new instances not in the training set.\n",
        "\n",
        "<br>\n",
        "\n",
        "![Figure 1-10](./Fig/Fig1-10.png)\n",
        "\n",
        "<br>\n",
        "\n",
        "**Example – Association rule learning**:<br>\n",
        "\n",
        "Discovers relations in data, e.g., supermarket sales logs may show that people who buy barbecue sauce and potato chips also often buy steak."
      ]
    },
    {
      "cell_type": "markdown",
      "metadata": {},
      "source": [
        "#### **Semisupervised Learning**"
      ]
    },
    {
      "cell_type": "markdown",
      "metadata": {},
      "source": [
        "Since labeling data is costly, we often have many unlabeled and few labeled instances. Algorithms that can use both are called **semisupervised** learning (Figure 1-11).\n",
        "<br>\n",
        "\n",
        "![Figure 1-11](./Fig/Fig1-11.png)\n",
        "\n",
        "Example :<br>\n",
        "Photo-hosting services (e.g., Google Photos) cluster faces (unsupervised), then need only one label per person to name them across all photos.\n",
        "\n",
        "How it works :<br>\n",
        "Most semisupervised approaches combine unsupervised and supervised methods. For instance, deep belief networks (DBNs) use unsupervised restricted Boltzmann machines (RBMs) stacked together, then fine-tuned with supervised learning."
      ]
    },
    {
      "cell_type": "markdown",
      "metadata": {},
      "source": [
        "#### **Reinforcement Learning**"
      ]
    },
    {
      "cell_type": "markdown",
      "metadata": {},
      "source": [
        "In **Reinforcement Learning (RL)**, the agent observes the environment, performs actions, and receives rewards or penalties (Figure 1-12). The goal is to learn the best policy a strategy mapping situations to actions that maximizes rewards over time.\n",
        "<br>\n",
        "\n",
        "![Figure 1-12](./Fig/Fig1-12.png)\n",
        "\n",
        "Examples : <br>\n",
        "\n",
        "- Robots use RL to learn how to walk.\n",
        "- AlphaGo (DeepMind) learned its winning policy by analyzing millions of games and playing against itself, later beating world champion Ke Jie in 2017.\n",
        "\n",
        "<br>\n"
      ]
    },
    {
      "cell_type": "markdown",
      "metadata": {},
      "source": [
        "### **Batch and Online Learning**"
      ]
    },
    {
      "cell_type": "markdown",
      "metadata": {},
      "source": [
        "#### **Batch Learning**"
      ]
    },
    {
      "cell_type": "markdown",
      "metadata": {},
      "source": [
        "In batch (offline) learning, the system is trained once on all available data, then deployed without further learning. To adapt to new data (e.g., new spam), the system must be retrained from scratch on the full dataset and replaced with the old version.\n",
        "\n",
        "Although training–evaluation–deployment can be automated (Figure 1-3), retraining is costly in time and resources. Typically, updates are done daily or weekly, which is unsuitable for rapidly changing data (e.g., stock prices).\n",
        "\n",
        "Batch learning also demands heavy resources (CPU, memory, disk, network). For massive datasets, frequent retraining can be too expensive or even infeasible. Moreover, systems with limited resources (e.g., smartphones, Mars rovers) cannot carry large datasets or train for hours.\n",
        "\n",
        "In such cases, incremental learning algorithms are a better option."
      ]
    },
    {
      "cell_type": "markdown",
      "metadata": {},
      "source": [
        "#### **Online Learning**"
      ]
    },
    {
      "cell_type": "markdown",
      "metadata": {},
      "source": [
        "In online learning, the system trains incrementally by receiving data sequentially, either one instance at a time or in small mini-batches. Each step is fast and cheap, allowing the model to adapt continuously as new data arrives.\n",
        "<br>\n",
        "\n",
        "![Figure 1-13](./Fig/Fig1-13.png)\n",
        "\n",
        "\n",
        "This approach is ideal for continuous data streams (e.g., stock prices) or when resources are limited. Once new data is learned, it can be discarded, saving storage.\n",
        "\n",
        "Online learning also enables out-of-core learning, useful for huge datasets that don’t fit into memory. The algorithm processes data in chunks until the entire dataset has been covered.\n",
        "\n",
        "<br>\n",
        "\n",
        "![Figure 1-14](./Fig/Fig1-14.png)\n",
        "\n",
        "A key parameter is the learning rate:\n",
        "\n",
        "High rate → adapts quickly but forgets old data (e.g., a spam filter only catching recent spam).\n",
        "\n",
        "Low rate → adapts slowly, more robust to noise and outliers.\n",
        "\n",
        "The main risk is bad data, which can degrade performance over time (e.g., faulty sensors, spam attacks). To mitigate this, systems should be monitored closely, with mechanisms to pause learning, roll back to a stable state, or detect anomalies in the input."
      ]
    },
    {
      "cell_type": "markdown",
      "metadata": {},
      "source": [
        "### **Instance-Based Versus Model-Based Learning**"
      ]
    },
    {
      "cell_type": "markdown",
      "metadata": {},
      "source": [
        "#### **Instance-Based Learning**"
      ]
    },
    {
      "cell_type": "markdown",
      "metadata": {},
      "source": [
        "One simple approach to generalization is instance-based learning—the system memorizes training examples and classifies new ones by comparing them to known instances using a similarity measure.\n",
        "\n",
        "For example, a spam filter could flag emails not only identical to known spam but also those with many words in common with spam messages. The new instance is then classified according to the most similar stored examples.\n",
        "<br>\n",
        "\n",
        "![Figure 1-15](./Fig/Fig1-15.png)"
      ]
    },
    {
      "cell_type": "markdown",
      "metadata": {},
      "source": [
        "#### **Model-Based Learning**"
      ]
    },
    {
      "cell_type": "markdown",
      "metadata": {},
      "source": [
        "Another approach to generalization is model-based learning, where the system builds a model from examples and uses it to make predictions.\n",
        "<br>\n",
        "\n",
        "![Figure 1-16](./Fig/Fig1-16.png)\n",
        "\n",
        "Example: Suppose you want to know if money makes people happy. You combine GDP per capita data (IMF) with life satisfaction data (OECD).\n",
        "<br>\n",
        "\n",
        "![Table 1-1](./Fig/Table1-1.png)\n",
        "\n",
        "When plotted, the data shows a roughly linear trend: higher GDP per capita often corresponds to greater life satisfaction.\n",
        "<br>\n",
        "\n",
        "![Figure 1-17](./Fig/Fig1-17.png)\n",
        "\n",
        "You can model this relationship using a linear function:\n",
        "\n",
        "> $life\\_satisfaction = \\theta_{0} + \\theta_{1} \\times GDP\\_per\\_capita$\n",
        "\n",
        "where $\\theta_{0}$ and $\\theta_{1}$ are parameters. Adjusting these parameters lets you fit different linear models.\n",
        "<br>\n",
        "\n",
        "![Figure 1-18](./Fig/Fig1-18.png)\n",
        "\n",
        "To find the best parameters, you define a performance measure (e.g., a cost function measuring prediction error).  \n",
        "A Linear Regression algorithm then trains the model by minimizing this error.  \n",
        "For this example, the best fit is:\n",
        "\n",
        "> $\\theta_{0} = 4.85,\\ \\theta_{1} = 4.91 \\times 10^{-5}$\n",
        "\n",
        "![Figure 1-18](./Fig/Fig1-18.png)\n",
        "\n",
        "Finally, you can use the trained model to predict unseen cases.  \n",
        "For instance, given Cyprus’s GDP per capita ($22,587), the model predicts:\n",
        "\n",
        "> $4.85 + (22,587 \\times 4.91 \\times 10^{-5}) \\approx 5.96$\n"
      ]
    },
    {
      "cell_type": "markdown",
      "metadata": {},
      "source": [
        "Example 1-1. Training and running a linear model using Scikit-Learn"
      ]
    },
    {
      "cell_type": "code",
      "execution_count": null,
      "metadata": {},
      "outputs": [],
      "source": [
        "import matplotlib.pyplot as plt\n",
        "import numpy as np\n",
        "import pandas as pd\n",
        "import sklearn.linear_model\n",
        "\n",
        "# Load the data\n",
        "oecd_bli = pd.read_csv(\"oecd_bli_2015.csv\", thousands=',')\n",
        "gdp_per_capita = pd.read_csv(\"gdp_per_capita.csv\",thousands=',',delimiter='\\t',\n",
        "encoding='latin1', na_values=\"n/a\")\n",
        "\n",
        "# Prepare the data\n",
        "country_stats = prepare_country_stats(oecd_bli, gdp_per_capita)\n",
        "X = np.c_[country_stats[\"GDP per capita\"]]\n",
        "y = np.c_[country_stats[\"Life satisfaction\"]]\n",
        "# Visualize the data\n",
        "country_stats.plot(kind='scatter', x=\"GDP per capita\", y='Life satisfaction')\n",
        "plt.show()\n",
        "# Select a linear model\n",
        "model = sklearn.linear_model.LinearRegression()\n",
        "# Train the model\n",
        "model.fit(X, y)\n",
        "# Make a prediction for Cyprus\n",
        "X_new = [[22587]] # Cyprus's GDP per capita\n",
        "print(model.predict(X_new)) # outputs [[ 5.96242338]]"
      ]
    },
    {
      "cell_type": "markdown",
      "metadata": {},
      "source": [
        "If the model predicts poorly, you may need more attributes, better data, or a more powerful model (e.g., Polynomial Regression).\n",
        "\n",
        "In summary:\n",
        "\n",
        "- Study the data\n",
        "- Select a model\n",
        "- Train it (minimize cost)\n",
        "- Apply it to make predictions (inference)\n",
        "- This outlines a typical ML project workflow. Next, we’ll explore what can go wrong and hinder accurate predictions."
      ]
    }
  ],
  "metadata": {
    "colab": {
      "provenance": []
    },
    "kernelspec": {
      "display_name": "Python 3",
      "name": "python3"
    },
    "language_info": {
      "name": "python"
    }
  },
  "nbformat": 4,
  "nbformat_minor": 0
}
