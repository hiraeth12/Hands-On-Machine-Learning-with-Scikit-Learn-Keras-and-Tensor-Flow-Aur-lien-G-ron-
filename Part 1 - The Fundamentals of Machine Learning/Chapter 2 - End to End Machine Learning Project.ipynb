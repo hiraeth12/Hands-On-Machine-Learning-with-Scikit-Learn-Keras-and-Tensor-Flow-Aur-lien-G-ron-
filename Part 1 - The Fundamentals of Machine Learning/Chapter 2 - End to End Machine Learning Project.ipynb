{
 "cells": [
  {
   "cell_type": "markdown",
   "id": "1fdf225e",
   "metadata": {},
   "source": [
    "# The Fundamentals of Machine Learning"
   ]
  },
  {
   "cell_type": "markdown",
   "id": "805414c9",
   "metadata": {},
   "source": [
    "## Chapter 2 - End-to-End Machine Learning Project"
   ]
  },
  {
   "cell_type": "markdown",
   "id": "a1b4ebbf",
   "metadata": {},
   "source": [
    "In this chapter you will work through an example project end to end, pretending to be a recently hired data scientist at a real estate company.1 Here are the main steps you will go through:\n",
    "<br>\n",
    "1. Look at the big picture.\n",
    "2. Get the data.\n",
    "3. Discover and visualize the data to gain insights.\n",
    "4. Prepare the data for Machine Learning algorithms.\n",
    "5. Select a model and train it.\n",
    "6. Fine-tune your model.\n",
    "7. Present your solution.\n",
    "8. Launch, monitor, and maintain your system.\n",
    "<br>"
   ]
  },
  {
   "cell_type": "markdown",
   "id": "b394ba05",
   "metadata": {},
   "source": [
    "### **Working with Real Data**"
   ]
  },
  {
   "cell_type": "markdown",
   "id": "98d102c1",
   "metadata": {},
   "source": [
    "When learning Machine Learning, it is best to work with real-world datasets rather than toy examples. Many open datasets are available across domains, including:\n",
    "- Popular repositories:<br> \n",
    "&nbsp; - [UC Irvine ML Repository](https://archive.ics.uci.edu/ml/index.php)<br>\n",
    "&nbsp; - [Kaggle](https://www.kaggle.com/datasets)<br>\n",
    "&nbsp; - [AWS datasets](https://registry.opendata.aws/)<br>  \n",
    "\n",
    "- Meta portals: <br>\n",
    "&nbsp; - [OpenDataMonitor](http://opendatamonitor.eu/) <br>\n",
    "&nbsp; - [Quandl](https://www.quandl.com/)<br>\n",
    "\n",
    "- Other lists:<br>\n",
    "&nbsp; - [Wikipedia ML datasets](https://en.wikipedia.org/wiki/List_of_datasets_for_machine-learning_research)<br>\n",
    "&nbsp; - [Quora threads](https://www.quora.com/Where-can-I-find-large-datasets-open-to-the-public)<br>\n",
    "&nbsp; - [r/datasets subreddit](https://www.reddit.com/r/datasets/) <br>\n",
    "\n",
    "In this chapter, we use the California Housing Prices dataset, built from the 1990 census and available from the StatLib repository. Although slightly outdated, it is a good dataset for learning. For teaching purposes, one categorical attribute has been added and some features removed.\n",
    "\n",
    "As shown in Figure 2-1, this dataset provides information on California housing prices.<br>\n",
    "\n",
    "![Figure 2-1](./Fig/Chapter_2/Fig2-1.png)\n",
    "\n"
   ]
  },
  {
   "cell_type": "markdown",
   "id": "98bfc53a",
   "metadata": {},
   "source": [
    "### **Look at the Big Picture**"
   ]
  },
  {
   "cell_type": "markdown",
   "id": "09e0f135",
   "metadata": {},
   "source": [
    "#### **Frame the Problem**"
   ]
  },
  {
   "cell_type": "markdown",
   "id": "5c0a8b75",
   "metadata": {},
   "source": [
    "- Always begin by asking: what is the business objective?\n",
    "- Predictions must fit the downstream system e.g., predicting median house values helps guide investment decisions.\n",
    "- The framing (classification vs regression, numeric vs category output) influences algorithm choice, evaluation, and effort."
   ]
  },
  {
   "cell_type": "markdown",
   "id": "e0f41c05",
   "metadata": {},
   "source": [
    "#### **Pipelines**"
   ]
  },
  {
   "cell_type": "markdown",
   "id": "401f915c",
   "metadata": {},
   "source": [
    "- ML systems usually operate inside data pipelines: chains of components that fetch data, run models, and feed outputs to applications.\n",
    "- Pipelines increase modularity and robustness, but failures in upstream components (e.g., stale data) can quickly harm predictions."
   ]
  },
  {
   "cell_type": "markdown",
   "id": "c5187580",
   "metadata": {},
   "source": [
    "#### **Choose the Learning Paradigm**"
   ]
  },
  {
   "cell_type": "markdown",
   "id": "7f361d41",
   "metadata": {},
   "source": [
    "The housing example is:\n",
    "\n",
    "- Supervised learning → labels are known (median house value).\n",
    "\n",
    "- Univariate regression → predict a single numeric value.\n",
    "\n",
    "- Batch learning is sufficient → no need for online updates in this case."
   ]
  },
  {
   "cell_type": "markdown",
   "id": "e8aa4144",
   "metadata": {},
   "source": [
    "#### **Select Performance Measure**"
   ]
  },
  {
   "cell_type": "markdown",
   "id": "b3400e53",
   "metadata": {},
   "source": [
    "For regression tasks, common metrics are:\n",
    "\n",
    "- RMSE (Root Mean Squared Error): sensitive to large errors.\n",
    "\n",
    "![Equation 2-1](./Fig/Chapter_2/Equation2-1.png)\n",
    "\n",
    "- MAE (Mean Absolute Error): less sensitive to outliers.\n",
    "\n",
    "![Equation 2-2](./Fig/Chapter_2/Equation2-2.png)\n",
    "\n",
    "Pick the measure that best matches the business need."
   ]
  },
  {
   "cell_type": "markdown",
   "id": "658e8c8d",
   "metadata": {},
   "source": [
    "#### **Check the Assumption**"
   ]
  },
  {
   "cell_type": "markdown",
   "id": "a29c6f63",
   "metadata": {},
   "source": [
    "It is good practice to list and verify all assumptions made so far, since catching problems early saves effort later.\n",
    "\n",
    "Example: the system outputs district prices that feed into a downstream ML system. You assume that actual prices will be used. But if the downstream system converts prices into categories (e.g., “cheap,” “medium,” “expensive”), then predicting exact prices is unnecessary the problem should be framed as classification, not regression.\n",
    "\n",
    "After discussion with the downstream team, you confirm they indeed need actual prices, not categories. ✅ Assumptions are validated, so you can confidently move forward to data collection and modeling."
   ]
  },
  {
   "cell_type": "markdown",
   "id": "4bd7e390",
   "metadata": {},
   "source": [
    "### **Get the Data**"
   ]
  },
  {
   "cell_type": "markdown",
   "id": "4d36b392",
   "metadata": {},
   "source": [
    "It’s time to get your hands dirty. Don’t hesitate to pick up your laptop and walkthrough the following code examples in a Jupyter notebook. The full Jupyter note\n",
    "book is available at [Full Jupyter Notebook](https://github.com/ageron/handson-ml2)."
   ]
  }
 ],
 "metadata": {
  "language_info": {
   "name": "python"
  }
 },
 "nbformat": 4,
 "nbformat_minor": 5
}
